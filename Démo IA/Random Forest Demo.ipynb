{
 "cells": [
  {
   "cell_type": "markdown",
   "metadata": {},
   "source": [
    "# Démonstration - Random Forest\n",
    "\n",
    "## Importation des librairies"
   ]
  },
  {
   "cell_type": "code",
   "execution_count": 1,
   "metadata": {},
   "outputs": [],
   "source": [
    "import json\n",
    "import joblib\n",
    "import pandas as pd\n",
    "import matplotlib.pyplot as plt"
   ]
  },
  {
   "cell_type": "markdown",
   "metadata": {},
   "source": [
    "## Importation du modèle, du scaler et des encoders"
   ]
  },
  {
   "cell_type": "code",
   "execution_count": 2,
   "metadata": {},
   "outputs": [],
   "source": [
    "# Load the model\n",
    "model = joblib.load('./model.joblib')\n",
    "\n",
    "# Load the scaler\n",
    "scaler = joblib.load('./scaler.joblib')\n",
    "\n",
    "# Load the label_encoders\n",
    "label_encoders = joblib.load('./label_encoders.joblib')"
   ]
  },
  {
   "cell_type": "markdown",
   "metadata": {},
   "source": [
    "## Préparation des données"
   ]
  },
  {
   "cell_type": "code",
   "execution_count": 3,
   "metadata": {},
   "outputs": [],
   "source": [
    "def hex_to_int(hex_val):\n",
    "    if str(hex_val) in ['nan', 'None']:\n",
    "        return 0\n",
    "    return int(str(hex_val), 16)\n",
    "\n",
    "def apply_hex_conversion(df, columns):\n",
    "    for column in columns:\n",
    "        df.loc[:, column] = df[column].apply(hex_to_int)\n",
    "    return df\n",
    "\n",
    "def label_encode_categorical_features(df, list_columns):\n",
    "    for idx, column in enumerate(list_columns):\n",
    "        if df[column].dtype == 'object':\n",
    "            try:\n",
    "                df[column] = label_encoders[idx].transform(df[column].astype(str))\n",
    "            except:\n",
    "                df[column] = 0\n",
    "    return df\n",
    "\n",
    "def fill_missing_values(df):\n",
    "    return df.astype(float).fillna(0)\n",
    "\n",
    "def normalize_numerical_columns(df, numerical_cols):\n",
    "    df[numerical_cols] = scaler.transform(df[numerical_cols])\n",
    "    return df\n",
    "\n",
    "# Columns to select from the dataset\n",
    "columns = [\n",
    "    'behavior.summary.keys',\n",
    "    'behavior.summary.resolved_apis',\n",
    "    'behavior.summary.executed_commands',\n",
    "    'behavior.summary.write_keys',\n",
    "    'behavior.summary.files',\n",
    "    'behavior.summary.read_files',\n",
    "    'behavior.summary.write_files',\n",
    "    'behavior.summary.delete_files',\n",
    "    'behavior.summary.mutexes',\n",
    "    'static.pe.osversion',\n",
    "    'static.pe.imported_dll_count',\n",
    "    'static.pe.actual_checksum',\n",
    "    'static.pe.entrypoint'\n",
    "]\n",
    "\n",
    "# Columns to apply hex conversion\n",
    "hex_columns = [\n",
    "    'static.pe.actual_checksum',\n",
    "    'static.pe.entrypoint'\n",
    "]\n",
    "\n",
    "# List columns for label encoding\n",
    "list_columns = [\n",
    "    'behavior.summary.keys',\n",
    "    'behavior.summary.resolved_apis',\n",
    "    'behavior.summary.executed_commands',\n",
    "    'behavior.summary.write_keys',\n",
    "    'behavior.summary.files',\n",
    "    'behavior.summary.read_files',\n",
    "    'behavior.summary.write_files',\n",
    "    'behavior.summary.delete_files',\n",
    "    'behavior.summary.mutexes'\n",
    "]\n",
    "\n",
    "# Numerical columns to normalize\n",
    "numerical_cols = [\n",
    "    'static.pe.osversion',\n",
    "    'static.pe.imported_dll_count',\n",
    "    'static.pe.actual_checksum',\n",
    "    'static.pe.entrypoint'\n",
    "]"
   ]
  },
  {
   "cell_type": "code",
   "execution_count": 4,
   "metadata": {},
   "outputs": [
    {
     "name": "stdout",
     "output_type": "stream",
     "text": [
      "<class 'pandas.core.frame.DataFrame'>\n",
      "RangeIndex: 1 entries, 0 to 0\n",
      "Data columns (total 13 columns):\n",
      " #   Column                              Non-Null Count  Dtype  \n",
      "---  ------                              --------------  -----  \n",
      " 0   behavior.summary.keys               1 non-null      float64\n",
      " 1   behavior.summary.resolved_apis      1 non-null      float64\n",
      " 2   behavior.summary.executed_commands  1 non-null      float64\n",
      " 3   behavior.summary.write_keys         1 non-null      float64\n",
      " 4   behavior.summary.files              1 non-null      float64\n",
      " 5   behavior.summary.read_files         1 non-null      float64\n",
      " 6   behavior.summary.write_files        1 non-null      float64\n",
      " 7   behavior.summary.delete_files       1 non-null      float64\n",
      " 8   behavior.summary.mutexes            1 non-null      float64\n",
      " 9   static.pe.osversion                 1 non-null      float64\n",
      " 10  static.pe.imported_dll_count        1 non-null      float64\n",
      " 11  static.pe.actual_checksum           1 non-null      float64\n",
      " 12  static.pe.entrypoint                1 non-null      float64\n",
      "dtypes: float64(13)\n",
      "memory usage: 236.0 bytes\n"
     ]
    }
   ],
   "source": [
    "# Import real data and apply the preprocessing before the prediction\n",
    "filename = './10_report.json'\n",
    "\n",
    "with open(filename) as json_data:\n",
    "    data = json.load(json_data)\n",
    "\n",
    "malware = pd.json_normalize(data)\n",
    "\n",
    "malware = malware.rename(columns={\n",
    "    \"target.file.pe.osversion\": \"static.pe.osversion\",\n",
    "    \"target.file.pe.imported_dll_count\": \"static.pe.imported_dll_count\",\n",
    "    \"target.file.pe.actual_checksum\": \"static.pe.actual_checksum\",\n",
    "    \"target.file.pe.entrypoint\": \"static.pe.entrypoint\"\n",
    "})\n",
    "\n",
    "malware = malware[columns]\n",
    "\n",
    "malware = apply_hex_conversion(malware, hex_columns)\n",
    "malware = label_encode_categorical_features(malware, list_columns)\n",
    "malware = fill_missing_values(malware)\n",
    "malware = normalize_numerical_columns(malware, numerical_cols)\n",
    "\n",
    "# Display information about the malware\n",
    "malware.info()"
   ]
  },
  {
   "cell_type": "markdown",
   "metadata": {},
   "source": [
    "## Prédiction du model"
   ]
  },
  {
   "cell_type": "code",
   "execution_count": 5,
   "metadata": {},
   "outputs": [
    {
     "name": "stdout",
     "output_type": "stream",
     "text": [
      "Predicted: Emotet\n"
     ]
    },
    {
     "data": {
      "image/png": "[encoded data removed]",
      "text/plain": [
       "<Figure size 800x200 with 1 Axes>"
      ]
     },
     "metadata": {},
     "output_type": "display_data"
    }
   ],
   "source": [
    "# Predict the malware family\n",
    "prediction = model.predict(malware)\n",
    "probabilities = model.predict_proba(malware)\n",
    "\n",
    "print('Predicted:', prediction[0])\n",
    "plt.rcParams['figure.figsize'] = [8, 2]\n",
    "plt.figure()\n",
    "plt.bar(model.classes_, probabilities[0])\n",
    "for i, prob in enumerate(probabilities[0]):\n",
    "    plt.text(i, prob, f'{prob*100:.0f}%', ha='center', va='bottom')\n",
    "plt.ylim(0, 1)\n",
    "plt.ylabel('Probability')\n",
    "plt.xlabel('Malware Family')\n",
    "plt.title('Prediction Probabilities')\n",
    "plt.show()"
   ]
  }
 ],
 "metadata": {
  "kernelspec": {
   "display_name": "Python 3",
   "language": "python",
   "name": "python3"
  },
  "language_info": {
   "codemirror_mode": {
    "name": "ipython",
    "version": 3
   },
   "file_extension": ".py",
   "mimetype": "text/x-python",
   "name": "python",
   "nbconvert_exporter": "python",
   "pygments_lexer": "ipython3",
   "version": "3.11.5"
  }
 },
 "nbformat": 4,
 "nbformat_minor": 2
}
